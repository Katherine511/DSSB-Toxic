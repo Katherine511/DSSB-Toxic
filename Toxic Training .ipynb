{
 "cells": [
  {
   "cell_type": "code",
   "execution_count": 1,
   "metadata": {},
   "outputs": [
    {
     "name": "stdout",
     "output_type": "stream",
     "text": [
      "[nltk_data] Downloading package stopwords to C:\\Users\\Jordan\n",
      "[nltk_data]     Fan\\AppData\\Roaming\\nltk_data...\n",
      "[nltk_data]   Package stopwords is already up-to-date!\n"
     ]
    },
    {
     "name": "stderr",
     "output_type": "stream",
     "text": [
      "Using TensorFlow backend.\n"
     ]
    }
   ],
   "source": [
    "import sys, os, re, csv, codecs \n",
    "import numpy as np \n",
    "import pandas as pd \n",
    "import matplotlib.pyplot as plt, seaborn as sns\n",
    "import string\n",
    "import nltk\n",
    "from nltk import word_tokenize\n",
    "from nltk.stem.wordnet import WordNetLemmatizer \n",
    "from nltk.corpus import stopwords \n",
    "nltk.download('stopwords')\n",
    "\n",
    "import keras"
   ]
  },
  {
   "cell_type": "code",
   "execution_count": 2,
   "metadata": {},
   "outputs": [],
   "source": [
    "path = \"./input/\"\n",
    "embedding_file = f'{path}glove.6B.50d.txt'\n",
    "train_file = f'{path}train.csv'\n",
    "test_file = f'{path}test.csv'"
   ]
  },
  {
   "cell_type": "code",
   "execution_count": 3,
   "metadata": {},
   "outputs": [
    {
     "data": {
      "text/plain": [
       "(159571, 8)"
      ]
     },
     "execution_count": 3,
     "metadata": {},
     "output_type": "execute_result"
    }
   ],
   "source": [
    "train = pd.read_csv(train_file)\n",
    "test = pd.read_csv(test_file)\n",
    "train.shape"
   ]
  },
  {
   "cell_type": "code",
   "execution_count": 4,
   "metadata": {},
   "outputs": [
    {
     "data": {
      "text/html": [
       "<div>\n",
       "<style scoped>\n",
       "    .dataframe tbody tr th:only-of-type {\n",
       "        vertical-align: middle;\n",
       "    }\n",
       "\n",
       "    .dataframe tbody tr th {\n",
       "        vertical-align: top;\n",
       "    }\n",
       "\n",
       "    .dataframe thead th {\n",
       "        text-align: right;\n",
       "    }\n",
       "</style>\n",
       "<table border=\"1\" class=\"dataframe\">\n",
       "  <thead>\n",
       "    <tr style=\"text-align: right;\">\n",
       "      <th></th>\n",
       "      <th>comment_text</th>\n",
       "    </tr>\n",
       "  </thead>\n",
       "  <tbody>\n",
       "    <tr>\n",
       "      <th>0</th>\n",
       "      <td>Explanation\\nWhy the edits made under my usern...</td>\n",
       "    </tr>\n",
       "    <tr>\n",
       "      <th>1</th>\n",
       "      <td>D'aww! He matches this background colour I'm s...</td>\n",
       "    </tr>\n",
       "    <tr>\n",
       "      <th>2</th>\n",
       "      <td>Hey man, I'm really not trying to edit war. It...</td>\n",
       "    </tr>\n",
       "    <tr>\n",
       "      <th>3</th>\n",
       "      <td>\"\\nMore\\nI can't make any real suggestions on ...</td>\n",
       "    </tr>\n",
       "    <tr>\n",
       "      <th>4</th>\n",
       "      <td>You, sir, are my hero. Any chance you remember...</td>\n",
       "    </tr>\n",
       "  </tbody>\n",
       "</table>\n",
       "</div>"
      ],
      "text/plain": [
       "                                        comment_text\n",
       "0  Explanation\\nWhy the edits made under my usern...\n",
       "1  D'aww! He matches this background colour I'm s...\n",
       "2  Hey man, I'm really not trying to edit war. It...\n",
       "3  \"\\nMore\\nI can't make any real suggestions on ...\n",
       "4  You, sir, are my hero. Any chance you remember..."
      ]
     },
     "execution_count": 4,
     "metadata": {},
     "output_type": "execute_result"
    }
   ],
   "source": [
    "text = pd.DataFrame(train[\"comment_text\"])\n",
    "toxic = pd.DataFrame(train[\"toxic\"])\n",
    "severe_toxic = pd.DataFrame(train[\"severe_toxic\"])\n",
    "obscene_toxic = pd.DataFrame(train[\"obscene\"])\n",
    "threat = pd.DataFrame(train[\"obscene\"])\n",
    "insult = pd.DataFrame(train[\"insult\"])\n",
    "identity_hate = pd.DataFrame(train[\"identity_hate\"])\n",
    "text.head()"
   ]
  },
  {
   "cell_type": "markdown",
   "metadata": {},
   "source": [
    "### Checking if there are any null values"
   ]
  },
  {
   "cell_type": "code",
   "execution_count": 5,
   "metadata": {},
   "outputs": [
    {
     "data": {
      "text/plain": [
       "id               0\n",
       "comment_text     0\n",
       "toxic            0\n",
       "severe_toxic     0\n",
       "obscene          0\n",
       "threat           0\n",
       "insult           0\n",
       "identity_hate    0\n",
       "dtype: int64"
      ]
     },
     "execution_count": 5,
     "metadata": {},
     "output_type": "execute_result"
    }
   ],
   "source": [
    "train.isnull().sum()"
   ]
  },
  {
   "cell_type": "markdown",
   "metadata": {},
   "source": [
    "\n",
    "### Comment Cleaning "
   ]
  },
  {
   "cell_type": "code",
   "execution_count": 6,
   "metadata": {},
   "outputs": [],
   "source": [
    "eng_stopwords = set(stopwords.words('english'))"
   ]
  },
  {
   "cell_type": "code",
   "execution_count": 12,
   "metadata": {
    "scrolled": true
   },
   "outputs": [
    {
     "data": {
      "text/html": [
       "<div>\n",
       "<style scoped>\n",
       "    .dataframe tbody tr th:only-of-type {\n",
       "        vertical-align: middle;\n",
       "    }\n",
       "\n",
       "    .dataframe tbody tr th {\n",
       "        vertical-align: top;\n",
       "    }\n",
       "\n",
       "    .dataframe thead th {\n",
       "        text-align: right;\n",
       "    }\n",
       "</style>\n",
       "<table border=\"1\" class=\"dataframe\">\n",
       "  <thead>\n",
       "    <tr style=\"text-align: right;\">\n",
       "      <th></th>\n",
       "      <th>comment_text</th>\n",
       "      <th>count_sent</th>\n",
       "      <th>count_word</th>\n",
       "      <th>count_unique_word</th>\n",
       "      <th>count_char</th>\n",
       "      <th>count_punctuations</th>\n",
       "      <th>count_words_upper</th>\n",
       "      <th>count_words_title</th>\n",
       "      <th>count_stopwords</th>\n",
       "      <th>mean_word_len</th>\n",
       "    </tr>\n",
       "  </thead>\n",
       "  <tbody>\n",
       "    <tr>\n",
       "      <th>0</th>\n",
       "      <td>explanation\\nwhy the edits made under my usern...</td>\n",
       "      <td>2</td>\n",
       "      <td>43</td>\n",
       "      <td>41</td>\n",
       "      <td>264</td>\n",
       "      <td>10</td>\n",
       "      <td>0</td>\n",
       "      <td>0</td>\n",
       "      <td>18</td>\n",
       "      <td>5.162791</td>\n",
       "    </tr>\n",
       "    <tr>\n",
       "      <th>1</th>\n",
       "      <td>d'aww! he matches this background colour i'm s...</td>\n",
       "      <td>1</td>\n",
       "      <td>17</td>\n",
       "      <td>17</td>\n",
       "      <td>112</td>\n",
       "      <td>12</td>\n",
       "      <td>0</td>\n",
       "      <td>0</td>\n",
       "      <td>2</td>\n",
       "      <td>5.588235</td>\n",
       "    </tr>\n",
       "    <tr>\n",
       "      <th>2</th>\n",
       "      <td>hey man, i'm really not trying to edit war. it...</td>\n",
       "      <td>1</td>\n",
       "      <td>42</td>\n",
       "      <td>39</td>\n",
       "      <td>233</td>\n",
       "      <td>6</td>\n",
       "      <td>0</td>\n",
       "      <td>0</td>\n",
       "      <td>20</td>\n",
       "      <td>4.571429</td>\n",
       "    </tr>\n",
       "    <tr>\n",
       "      <th>3</th>\n",
       "      <td>\"\\nmore\\ni can't make any real suggestions on ...</td>\n",
       "      <td>5</td>\n",
       "      <td>113</td>\n",
       "      <td>81</td>\n",
       "      <td>622</td>\n",
       "      <td>21</td>\n",
       "      <td>0</td>\n",
       "      <td>0</td>\n",
       "      <td>56</td>\n",
       "      <td>4.486726</td>\n",
       "    </tr>\n",
       "    <tr>\n",
       "      <th>4</th>\n",
       "      <td>you, sir, are my hero. any chance you remember...</td>\n",
       "      <td>1</td>\n",
       "      <td>13</td>\n",
       "      <td>13</td>\n",
       "      <td>67</td>\n",
       "      <td>5</td>\n",
       "      <td>0</td>\n",
       "      <td>0</td>\n",
       "      <td>5</td>\n",
       "      <td>4.230769</td>\n",
       "    </tr>\n",
       "  </tbody>\n",
       "</table>\n",
       "</div>"
      ],
      "text/plain": [
       "                                        comment_text  count_sent  count_word  \\\n",
       "0  explanation\\nwhy the edits made under my usern...           2          43   \n",
       "1  d'aww! he matches this background colour i'm s...           1          17   \n",
       "2  hey man, i'm really not trying to edit war. it...           1          42   \n",
       "3  \"\\nmore\\ni can't make any real suggestions on ...           5         113   \n",
       "4  you, sir, are my hero. any chance you remember...           1          13   \n",
       "\n",
       "   count_unique_word  count_char  count_punctuations  count_words_upper  \\\n",
       "0                 41         264                  10                  0   \n",
       "1                 17         112                  12                  0   \n",
       "2                 39         233                   6                  0   \n",
       "3                 81         622                  21                  0   \n",
       "4                 13          67                   5                  0   \n",
       "\n",
       "   count_words_title  count_stopwords  mean_word_len  \n",
       "0                  0               18       5.162791  \n",
       "1                  0                2       5.588235  \n",
       "2                  0               20       4.571429  \n",
       "3                  0               56       4.486726  \n",
       "4                  0                5       4.230769  "
      ]
     },
     "execution_count": 12,
     "metadata": {},
     "output_type": "execute_result"
    }
   ],
   "source": [
    "\n",
    "text[\"comment_text\"] = text[\"comment_text\"].str.lower()\n",
    "#gets rid of punctuations \n",
    "#text[\"no_punc\"] = text[\"comment_text\"].str.replace(\"[^\\w\\s]\", \" \").str.replace(\"\\s\", \" \").str.replace(\"\\s+\", \" \").str.strip()\n",
    "#number of sentences in the text\n",
    "text[\"count_sent\"] = text[\"comment_text\"].apply(lambda x: len(re.findall(\"\\n\", str(x))) + 1)\n",
    "#number of words in the text\n",
    "text[\"count_word\"] = text[\"comment_text\"].apply(lambda x: len(str(x).split()))\n",
    "#number of unique words in the text\n",
    "text[\"count_unique_word\"] = text[\"comment_text\"].apply(lambda x: len(set(str(x).split())))\n",
    "#character count \n",
    "text[\"count_char\"] = text[\"comment_text\"].apply(lambda x: len(str(x)))\n",
    "#counts the number of punctuations\n",
    "text[\"count_punctuations\"] = text[\"comment_text\"].apply(lambda x: len([c for c in str(x) if c in string.punctuation]))\n",
    "#upper case words count\n",
    "text[\"count_words_upper\"] = text[\"comment_text\"].apply(lambda x: len([w for w in str(x).split() if w.isupper()]))\n",
    "#title case words count\n",
    "text[\"count_words_title\"] = text[\"comment_text\"].apply(lambda x: len([w for w in str(x).split() if w.istitle()]))\n",
    "#Number of stopwords\n",
    "text[\"count_stopwords\"] = text[\"comment_text\"].apply(lambda x: len([w for w in str(x).lower().split() if w in eng_stopwords]))\n",
    "#Average length of the words\n",
    "text[\"mean_word_len\"] = text[\"comment_text\"].apply(lambda x: np.mean([len(w) for w in str(x).split()]))\n",
    "text.head()"
   ]
  },
  {
   "cell_type": "markdown",
   "metadata": {},
   "source": [
    "### Subsetting data to include rows that are labeled with a tag"
   ]
  },
  {
   "cell_type": "code",
   "execution_count": 15,
   "metadata": {},
   "outputs": [],
   "source": [
    "toxic = train[(train[\"toxic\"] != 0) | (train[\"severe_toxic\"] != 0) | \n",
    "              (train[\"obscene\"] != 0) | (train[\"threat\"] != 0) | \n",
    "              (train[\"insult\"] != 0) | (train[\"identity_hate\"] != 0)]"
   ]
  },
  {
   "cell_type": "markdown",
   "metadata": {},
   "source": [
    "### "
   ]
  },
  {
   "cell_type": "code",
   "execution_count": 7,
   "metadata": {},
   "outputs": [
    {
     "data": {
      "text/plain": [
       "[]"
      ]
     },
     "execution_count": 7,
     "metadata": {},
     "output_type": "execute_result"
    }
   ],
   "source": [
    "#counts = []\n",
    "#for i in objects:\n",
    "#    counts += toxic[toxic[i] == 1].shape[0]\n",
    "objects = list(toxic.columns[2:8])\n",
    "y_pos = np.arange(len(objects))\n",
    "counts = []\n",
    "for i in objects:\n",
    "    counts.append(toxic[toxic[i] == 1].shape[0])\n",
    "counts"
   ]
  },
  {
   "cell_type": "code",
   "execution_count": 95,
   "metadata": {},
   "outputs": [
    {
     "data": {
      "image/png": "[encoded data removed]",
      "text/plain": [
       "<matplotlib.figure.Figure at 0x18d37ba1c88>"
      ]
     },
     "metadata": {},
     "output_type": "display_data"
    }
   ],
   "source": [
    "objects = list(toxic.columns[2:8])\n",
    "y_pos = np.arange(len(objects))\n",
    "counts = []\n",
    "for i in objects:\n",
    "    counts.append(toxic[toxic[i] == 1].shape[0])\n",
    "\n",
    "ax = pd.Series.from_array(counts).plot(kind = \"bar\")\n",
    "#ax.xticklabel(y_pos)\n",
    "#ax.ylabel('# of Occurences')\n",
    "ax.set_title('# per class')\n",
    "ax.set_xlabel(\"Label\")\n",
    "ax.set_ylabel(\"Counts\")\n",
    "ax.set_xticklabels(objects)\n",
    "ax.set_ylim(0, 16500)\n",
    "for rect, label in zip(ax.patches, counts):\n",
    "    height = rect.get_height()\n",
    "    ax.text(rect.get_x() + rect.get_width()/2, height + 10, label, ha = \"center\", va = \"bottom\")\n"
   ]
  },
  {
   "cell_type": "code",
   "execution_count": 96,
   "metadata": {},
   "outputs": [
    {
     "data": {
      "text/html": [
       "<div>\n",
       "<style scoped>\n",
       "    .dataframe tbody tr th:only-of-type {\n",
       "        vertical-align: middle;\n",
       "    }\n",
       "\n",
       "    .dataframe tbody tr th {\n",
       "        vertical-align: top;\n",
       "    }\n",
       "\n",
       "    .dataframe thead th {\n",
       "        text-align: right;\n",
       "    }\n",
       "</style>\n",
       "<table border=\"1\" class=\"dataframe\">\n",
       "  <thead>\n",
       "    <tr style=\"text-align: right;\">\n",
       "      <th></th>\n",
       "      <th>toxic</th>\n",
       "      <th>severe_toxic</th>\n",
       "      <th>obscene</th>\n",
       "      <th>threat</th>\n",
       "      <th>insult</th>\n",
       "      <th>identity_hate</th>\n",
       "    </tr>\n",
       "  </thead>\n",
       "  <tbody>\n",
       "    <tr>\n",
       "      <th>toxic</th>\n",
       "      <td>1.000000</td>\n",
       "      <td>0.081465</td>\n",
       "      <td>-0.020260</td>\n",
       "      <td>-0.002464</td>\n",
       "      <td>-0.042957</td>\n",
       "      <td>-0.021089</td>\n",
       "    </tr>\n",
       "    <tr>\n",
       "      <th>severe_toxic</th>\n",
       "      <td>0.081465</td>\n",
       "      <td>1.000000</td>\n",
       "      <td>0.284441</td>\n",
       "      <td>0.079589</td>\n",
       "      <td>0.247133</td>\n",
       "      <td>0.128725</td>\n",
       "    </tr>\n",
       "    <tr>\n",
       "      <th>obscene</th>\n",
       "      <td>-0.020260</td>\n",
       "      <td>0.284441</td>\n",
       "      <td>1.000000</td>\n",
       "      <td>0.038003</td>\n",
       "      <td>0.506815</td>\n",
       "      <td>0.131760</td>\n",
       "    </tr>\n",
       "    <tr>\n",
       "      <th>threat</th>\n",
       "      <td>-0.002464</td>\n",
       "      <td>0.079589</td>\n",
       "      <td>0.038003</td>\n",
       "      <td>1.000000</td>\n",
       "      <td>0.054652</td>\n",
       "      <td>0.073364</td>\n",
       "    </tr>\n",
       "    <tr>\n",
       "      <th>insult</th>\n",
       "      <td>-0.042957</td>\n",
       "      <td>0.247133</td>\n",
       "      <td>0.506815</td>\n",
       "      <td>0.054652</td>\n",
       "      <td>1.000000</td>\n",
       "      <td>0.209547</td>\n",
       "    </tr>\n",
       "    <tr>\n",
       "      <th>identity_hate</th>\n",
       "      <td>-0.021089</td>\n",
       "      <td>0.128725</td>\n",
       "      <td>0.131760</td>\n",
       "      <td>0.073364</td>\n",
       "      <td>0.209547</td>\n",
       "      <td>1.000000</td>\n",
       "    </tr>\n",
       "  </tbody>\n",
       "</table>\n",
       "</div>"
      ],
      "text/plain": [
       "                  toxic  severe_toxic   obscene    threat    insult  \\\n",
       "toxic          1.000000      0.081465 -0.020260 -0.002464 -0.042957   \n",
       "severe_toxic   0.081465      1.000000  0.284441  0.079589  0.247133   \n",
       "obscene       -0.020260      0.284441  1.000000  0.038003  0.506815   \n",
       "threat        -0.002464      0.079589  0.038003  1.000000  0.054652   \n",
       "insult        -0.042957      0.247133  0.506815  0.054652  1.000000   \n",
       "identity_hate -0.021089      0.128725  0.131760  0.073364  0.209547   \n",
       "\n",
       "               identity_hate  \n",
       "toxic              -0.021089  \n",
       "severe_toxic        0.128725  \n",
       "obscene             0.131760  \n",
       "threat              0.073364  \n",
       "insult              0.209547  \n",
       "identity_hate       1.000000  "
      ]
     },
     "execution_count": 96,
     "metadata": {},
     "output_type": "execute_result"
    }
   ],
   "source": [
    "toxic.corr()"
   ]
  },
  {
   "cell_type": "code",
   "execution_count": null,
   "metadata": {},
   "outputs": [],
   "source": []
  }
 ],
 "metadata": {
  "kernelspec": {
   "display_name": "Python 3",
   "language": "python",
   "name": "python3"
  },
  "language_info": {
   "codemirror_mode": {
    "name": "ipython",
    "version": 3
   },
   "file_extension": ".py",
   "mimetype": "text/x-python",
   "name": "python",
   "nbconvert_exporter": "python",
   "pygments_lexer": "ipython3",
   "version": "3.6.4"
  }
 },
 "nbformat": 4,
 "nbformat_minor": 2
}
